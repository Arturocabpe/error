{
 "cells": [
  {
   "cell_type": "code",
   "execution_count": 7,
   "id": "noted-valuable",
   "metadata": {},
   "outputs": [
    {
     "name": "stdout",
     "output_type": "stream",
     "text": [
      "ingrese el valor real: 1\n",
      "ingrese el valor que se aprox: 2\n",
      "\n",
      "error Absoluto: -1.0\n",
      "error Relativo: -1.0\n",
      "error porcentual:-100.0%\n"
     ]
    }
   ],
   "source": [
    "#metodos\n",
    "def Eabsoluto(r,a):\n",
    "    return r - a\n",
    "\n",
    "def Erelativo(r,a):\n",
    "    return (r - a) / r\n",
    "\n",
    "def Eporcentual(r,a):\n",
    "    return((r - a) / r)*100\n",
    "\n",
    "\n",
    "\n",
    "#inicio\n",
    "real=float(input(\"ingrese el valor real: \"))\n",
    "aprox=float(input(\"ingrese el valor que se aprox: \" ))\n",
    "\n",
    "\n",
    "#salida\n",
    "print()\n",
    "print(\"error Absoluto: \"+ str (Eabsoluto(real,aprox)))\n",
    "print(\"error Relativo: \"+ str (Erelativo(real,aprox)))\n",
    "print(\"error porcentual:\"+ str(Eporcentual(real,aprox))+ \"%\")"
   ]
  },
  {
   "cell_type": "code",
   "execution_count": null,
   "id": "metric-ethics",
   "metadata": {},
   "outputs": [],
   "source": []
  },
  {
   "cell_type": "code",
   "execution_count": null,
   "id": "seven-bangladesh",
   "metadata": {},
   "outputs": [],
   "source": []
  },
  {
   "cell_type": "code",
   "execution_count": null,
   "id": "bottom-mortgage",
   "metadata": {},
   "outputs": [],
   "source": []
  },
  {
   "cell_type": "code",
   "execution_count": null,
   "id": "improved-teach",
   "metadata": {},
   "outputs": [],
   "source": []
  },
  {
   "cell_type": "code",
   "execution_count": null,
   "id": "national-masters",
   "metadata": {},
   "outputs": [],
   "source": []
  },
  {
   "cell_type": "code",
   "execution_count": null,
   "id": "manufactured-consensus",
   "metadata": {},
   "outputs": [],
   "source": [
    "5\n",
    "8\n"
   ]
  }
 ],
 "metadata": {
  "kernelspec": {
   "display_name": "Python 3",
   "language": "python",
   "name": "python3"
  },
  "language_info": {
   "codemirror_mode": {
    "name": "ipython",
    "version": 3
   },
   "file_extension": ".py",
   "mimetype": "text/x-python",
   "name": "python",
   "nbconvert_exporter": "python",
   "pygments_lexer": "ipython3",
   "version": "3.9.2"
  }
 },
 "nbformat": 4,
 "nbformat_minor": 5
}
